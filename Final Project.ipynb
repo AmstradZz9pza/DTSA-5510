{
 "cells": [
  {
   "cell_type": "markdown",
   "metadata": {},
   "source": [
    "# Final Project - Fake News Detection\n",
    "## DTSA 5510 Unsupervised Algorithms in Machine Learning\n",
    "For this final project I will be conducting an Unsupervised Learning classification on a dataset obtained from Kaggle.  This notebook will include the problem description, EDA procedure, analysis (model building and training), result, and discussion/conclusion. \n",
    "\n",
    "The problem I have chosen is in classifying new articles as either Real or Fake based on the content of the article.\n",
    "\n",
    "From: https://www.kaggle.com/datasets/clmentbisaillon/fake-and-real-news-dataset\n",
    "\n",
    "Social media is a vast pool of content, and among all the content available for users to access, news is an element that is accessed most frequently. These news can be posted by politicians, news channels, newspaper websites, or even common civilians. These posts have to be checked for their authenticity, since spreading misinformation has been a real concern in today’s times, and many firms are taking steps to make the common people aware of the consequences of spread misinformation. The measure of authenticity of the news posted online cannot be definitively measured, since the manual classification of news is tedious and time-consuming, and is also subject to bias.\n"
   ]
  },
  {
   "cell_type": "code",
   "execution_count": 5,
   "metadata": {},
   "outputs": [],
   "source": [
    "import pandas as pd\n",
    "import matplotlib.pyplot as plt\n",
    "import numpy as np\n",
    "from sklearn import metrics\n",
    "from time import time"
   ]
  },
  {
   "cell_type": "markdown",
   "metadata": {},
   "source": [
    "## Dataset and EDA\n",
    "\n",
    "Let's read it in and see what we have"
   ]
  },
  {
   "cell_type": "code",
   "execution_count": 153,
   "metadata": {},
   "outputs": [
    {
     "name": "stdout",
     "output_type": "stream",
     "text": [
      "<class 'pandas.core.frame.DataFrame'>\n",
      "RangeIndex: 23481 entries, 0 to 23480\n",
      "Data columns (total 4 columns):\n",
      " #   Column   Non-Null Count  Dtype \n",
      "---  ------   --------------  ----- \n",
      " 0   title    23481 non-null  object\n",
      " 1   text     23481 non-null  object\n",
      " 2   subject  23481 non-null  object\n",
      " 3   date     23481 non-null  object\n",
      "dtypes: object(4)\n",
      "memory usage: 733.9+ KB\n",
      "<class 'pandas.core.frame.DataFrame'>\n",
      "RangeIndex: 21417 entries, 0 to 21416\n",
      "Data columns (total 4 columns):\n",
      " #   Column   Non-Null Count  Dtype \n",
      "---  ------   --------------  ----- \n",
      " 0   title    21417 non-null  object\n",
      " 1   text     21417 non-null  object\n",
      " 2   subject  21417 non-null  object\n",
      " 3   date     21417 non-null  object\n",
      "dtypes: object(4)\n",
      "memory usage: 669.4+ KB\n"
     ]
    }
   ],
   "source": [
    "fake = pd.read_csv('Fake.csv')\n",
    "fake.info()\n",
    "\n",
    "true = pd.read_csv('True.csv')\n",
    "true.info()"
   ]
  },
  {
   "cell_type": "code",
   "execution_count": 154,
   "metadata": {},
   "outputs": [
    {
     "data": {
      "text/html": [
       "<div>\n",
       "<style scoped>\n",
       "    .dataframe tbody tr th:only-of-type {\n",
       "        vertical-align: middle;\n",
       "    }\n",
       "\n",
       "    .dataframe tbody tr th {\n",
       "        vertical-align: top;\n",
       "    }\n",
       "\n",
       "    .dataframe thead th {\n",
       "        text-align: right;\n",
       "    }\n",
       "</style>\n",
       "<table border=\"1\" class=\"dataframe\">\n",
       "  <thead>\n",
       "    <tr style=\"text-align: right;\">\n",
       "      <th></th>\n",
       "      <th>title</th>\n",
       "      <th>text</th>\n",
       "      <th>subject</th>\n",
       "      <th>date</th>\n",
       "    </tr>\n",
       "  </thead>\n",
       "  <tbody>\n",
       "    <tr>\n",
       "      <th>0</th>\n",
       "      <td>As U.S. budget fight looms, Republicans flip t...</td>\n",
       "      <td>WASHINGTON (Reuters) - The head of a conservat...</td>\n",
       "      <td>politicsNews</td>\n",
       "      <td>December 31, 2017</td>\n",
       "    </tr>\n",
       "    <tr>\n",
       "      <th>1</th>\n",
       "      <td>U.S. military to accept transgender recruits o...</td>\n",
       "      <td>WASHINGTON (Reuters) - Transgender people will...</td>\n",
       "      <td>politicsNews</td>\n",
       "      <td>December 29, 2017</td>\n",
       "    </tr>\n",
       "    <tr>\n",
       "      <th>2</th>\n",
       "      <td>Senior U.S. Republican senator: 'Let Mr. Muell...</td>\n",
       "      <td>WASHINGTON (Reuters) - The special counsel inv...</td>\n",
       "      <td>politicsNews</td>\n",
       "      <td>December 31, 2017</td>\n",
       "    </tr>\n",
       "  </tbody>\n",
       "</table>\n",
       "</div>"
      ],
      "text/plain": [
       "                                               title  \\\n",
       "0  As U.S. budget fight looms, Republicans flip t...   \n",
       "1  U.S. military to accept transgender recruits o...   \n",
       "2  Senior U.S. Republican senator: 'Let Mr. Muell...   \n",
       "\n",
       "                                                text       subject  \\\n",
       "0  WASHINGTON (Reuters) - The head of a conservat...  politicsNews   \n",
       "1  WASHINGTON (Reuters) - Transgender people will...  politicsNews   \n",
       "2  WASHINGTON (Reuters) - The special counsel inv...  politicsNews   \n",
       "\n",
       "                 date  \n",
       "0  December 31, 2017   \n",
       "1  December 29, 2017   \n",
       "2  December 31, 2017   "
      ]
     },
     "execution_count": 154,
     "metadata": {},
     "output_type": "execute_result"
    }
   ],
   "source": [
    "true.head(3)"
   ]
  },
  {
   "cell_type": "markdown",
   "metadata": {},
   "source": [
    "First step is that we'll add a label column and combine into a single set fro unsupervised training."
   ]
  },
  {
   "cell_type": "code",
   "execution_count": 155,
   "metadata": {},
   "outputs": [],
   "source": [
    "fake['Label'] = 0\n",
    "true['Label'] = 1\n",
    "\n",
    "train =  pd.concat([fake, true])\n",
    "\n",
    "# Randomize the rows\n",
    "train = train.sample(frac=1).reset_index(drop=True)"
   ]
  },
  {
   "cell_type": "markdown",
   "metadata": {},
   "source": [
    "I'm not sure what the subject means, but we'll drop the date and subject and combine the title and text into a single field"
   ]
  },
  {
   "cell_type": "code",
   "execution_count": 157,
   "metadata": {},
   "outputs": [
    {
     "data": {
      "text/html": [
       "<div>\n",
       "<style scoped>\n",
       "    .dataframe tbody tr th:only-of-type {\n",
       "        vertical-align: middle;\n",
       "    }\n",
       "\n",
       "    .dataframe tbody tr th {\n",
       "        vertical-align: top;\n",
       "    }\n",
       "\n",
       "    .dataframe thead th {\n",
       "        text-align: right;\n",
       "    }\n",
       "</style>\n",
       "<table border=\"1\" class=\"dataframe\">\n",
       "  <thead>\n",
       "    <tr style=\"text-align: right;\">\n",
       "      <th></th>\n",
       "      <th>Label</th>\n",
       "      <th>Combined_Text</th>\n",
       "    </tr>\n",
       "  </thead>\n",
       "  <tbody>\n",
       "    <tr>\n",
       "      <th>0</th>\n",
       "      <td>1</td>\n",
       "      <td>The frequent-flyer U.S. Congress: lawmakers wo...</td>\n",
       "    </tr>\n",
       "    <tr>\n",
       "      <th>1</th>\n",
       "      <td>1</td>\n",
       "      <td>Inquiry ordered into deadly Indian power plant...</td>\n",
       "    </tr>\n",
       "    <tr>\n",
       "      <th>2</th>\n",
       "      <td>0</td>\n",
       "      <td>WATCH: Insider Reveals How Trump University S...</td>\n",
       "    </tr>\n",
       "  </tbody>\n",
       "</table>\n",
       "</div>"
      ],
      "text/plain": [
       "   Label                                      Combined_Text\n",
       "0      1  The frequent-flyer U.S. Congress: lawmakers wo...\n",
       "1      1  Inquiry ordered into deadly Indian power plant...\n",
       "2      0   WATCH: Insider Reveals How Trump University S..."
      ]
     },
     "execution_count": 157,
     "metadata": {},
     "output_type": "execute_result"
    }
   ],
   "source": [
    "train['Combined_Text'] = train['title'] + ' ' + train['text']\n",
    "train = train.drop(['title', 'text', 'subject', 'date'], axis = 1)\n"
   ]
  },
  {
   "cell_type": "code",
   "execution_count": 163,
   "metadata": {},
   "outputs": [
    {
     "data": {
      "text/plain": [
       "'The frequent-flyer U.S. Congress: lawmakers work less in DC WASHINGTON (Reuters) - Anyone seeking a table at Carmine’s Italian restaurant near Capitol Hill on a Tuesday or Wednesday needs to battle a mid-week crush of Congress members and their staff. But Mondays are far quieter — just like the floor of Congress. There are usually around nine events on a Monday, compared to as many as 30 on a midweek day, says Kelly Fitzgerald, Carmine’s director of special events and catering.\\xa0 The mid-week crunch at Carmine’s underscores a trend: members of the U.S. Congress have been spending fewer days working in Washington since the late 2000s, according to a Reuters review of congressional records going back 18 years. Lawmakers increasingly try to cram their legislative work into the middle of the week in Washington and then rush back home. Their absence from the capital reinforces the effects of a deepening partisan divide in recent years that has led to high-profile deadlocks over legislation p'"
      ]
     },
     "execution_count": 163,
     "metadata": {},
     "output_type": "execute_result"
    }
   ],
   "source": [
    "# first 1000 characters of an article\n",
    "train['Combined_Text'][0][:1000]"
   ]
  },
  {
   "cell_type": "markdown",
   "metadata": {},
   "source": [
    "There are punctuation and other non-word characters.  Let's clean it so that the article is a list of tokenized words.  This is a process called \"stemming\".  \n",
    "\n",
    "We also want to remove \"stop words\" which are common words that do not provide useful information about the content of the text (such as \"a\", \"the\", \"is\").  I would use Natural Language Toolkit (nltk) for this, but it's not available. So instead I grabbed a reasonable manual stopwords list from here: https://gist.github.com/sebleier/554280.  Not ideal, but better than nothing."
   ]
  },
  {
   "cell_type": "code",
   "execution_count": 169,
   "metadata": {},
   "outputs": [],
   "source": [
    "stopwords = [\"i\", \"me\", \"my\", \"myself\", \"we\", \"our\", \"ours\", \"ourselves\", \"you\", \"your\", \"yours\", \"yourself\", \n",
    "             \"yourselves\", \"he\", \"him\", \"his\", \"himself\", \"she\", \"her\", \"hers\", \"herself\", \"it\", \"its\", \"itself\", \n",
    "             \"they\", \"them\", \"their\", \"theirs\", \"themselves\", \"what\", \"which\", \"who\", \"whom\", \"this\", \"that\", \n",
    "             \"these\", \"those\", \"am\", \"is\", \"are\", \"was\", \"were\", \"be\", \"been\", \"being\", \"have\", \"has\", \"had\", \n",
    "             \"having\", \"do\", \"does\", \"did\", \"doing\", \"a\", \"an\", \"the\", \"and\", \"but\", \"if\", \"or\", \"because\", \"as\", \n",
    "             \"until\", \"while\", \"of\", \"at\", \"by\", \"for\", \"with\", \"about\", \"against\", \"between\", \"into\", \"through\", \n",
    "             \"during\", \"before\", \"after\", \"above\", \"below\", \"to\", \"from\", \"up\", \"down\", \"in\", \"out\", \"on\", \"off\", \n",
    "             \"over\", \"under\", \"again\", \"further\", \"then\", \"once\", \"here\", \"there\", \"when\", \"where\", \"why\", \"how\", \n",
    "             \"all\", \"any\", \"both\", \"each\", \"few\", \"more\", \"most\", \"other\", \"some\", \"such\", \"no\", \"nor\", \"not\", \n",
    "             \"only\", \"own\", \"same\", \"so\", \"than\", \"too\", \"very\", \"s\", \"t\", \"can\", \"will\", \"just\", \"don\", \"should\", \"now\"]"
   ]
  },
  {
   "cell_type": "code",
   "execution_count": 224,
   "metadata": {},
   "outputs": [],
   "source": [
    "import re\n",
    "\n",
    "def clean_text(df, col):\n",
    "    \n",
    "    # this function will add a column to the dataframe called \"clean_text\"\n",
    "    \n",
    "    clean_text = df[col]\n",
    "    \n",
    "    #remove all punctuation\n",
    "    clean_text = clean_text.apply(lambda row: re.sub(r'[^\\w\\s]+', '', row))\n",
    "    \n",
    "    #remove numbers \n",
    "    clean_text = clean_text.apply(lambda row: re.sub(r'[0-9]+', '', row))\n",
    "    \n",
    "    #force to lower case\n",
    "    clean_text = clean_text.apply(lambda x: x.lower())\n",
    "    \n",
    "    #remove stop words\n",
    "    clean_text = clean_text.apply(lambda x: ' '.join([word for word in x.split() if word not in (stopwords)]))\n",
    "    \n",
    "    #remove extra spaces\n",
    "    df['Clean_Text'] = clean_text.apply(lambda x: re.sub(' +', ' ', x))\n",
    "    \n",
    "    return "
   ]
  },
  {
   "cell_type": "code",
   "execution_count": 225,
   "metadata": {},
   "outputs": [],
   "source": [
    "clean_text(train,'Combined_Text')"
   ]
  },
  {
   "cell_type": "code",
   "execution_count": 226,
   "metadata": {},
   "outputs": [
    {
     "data": {
      "text/plain": [
       "'frequentflyer us congress lawmakers work less dc washington reuters anyone seeking table carmines italian restaurant near capitol hill tuesday wednesday needs battle midweek crush congress members staff mondays far quieter like floor congress usually around nine events monday compared many midweek day says kelly fitzgerald carmines director special events catering midweek crunch carmines underscores trend members us congress spending fewer days working washington since late according reuters review congressional records going back years lawmakers increasingly try cram legislative work middle week washington rush back home absence capital reinforces effects deepening partisan divide recent years led highprofile deadlocks legislation previously seen routine according former lawmakers political analysts pressure spend time home constituencies often fundraising campaigns members less time attend debates mingle lawmakers work setting dont know colleagues makes much difficult get things done'"
      ]
     },
     "execution_count": 226,
     "metadata": {},
     "output_type": "execute_result"
    }
   ],
   "source": [
    "# first 1000 characters of an article after cleaning\n",
    "train['Clean_Text'][0][:1000]"
   ]
  },
  {
   "cell_type": "code",
   "execution_count": 227,
   "metadata": {},
   "outputs": [
    {
     "data": {
      "image/png": "[encoded data removed]",
      "text/plain": [
       "<Figure size 432x288 with 1 Axes>"
      ]
     },
     "metadata": {
      "needs_background": "light"
     },
     "output_type": "display_data"
    }
   ],
   "source": [
    "plt.figure()\n",
    "train['Label'].hist()\n",
    "plt.title('Distribution of Classification Label')\n",
    "plt.show()"
   ]
  },
  {
   "cell_type": "markdown",
   "metadata": {},
   "source": [
    "## Model and data prep\n",
    "\n",
    "Given that this is a binary classification problem, the first thought that comes to mind is k-means clustering. So we'll try that first.  For most models, we need to convert the text into arrays of numeric numbers that the models can use. For that we will use TF-IDF (Text Frequency, Inverse Document Frequency).\n",
    "\n",
    "TfidfVectorizer uses an in-memory vocabulary (a Python dict) to map the most frequent words to features indices and hence compute a word occurrence frequency (sparse) matrix. The word frequencies are then reweighted using the Inverse Document Frequency (IDF) vector collected feature-wise over the corpus.\n",
    "\n",
    "We set the vectorizer parameters to ignore terms that appear in more than 50% of the documents (as set by max_df=0.5) and terms that are not present in at least 5 documents (set by min_df=5).  The input data has already had the stop words removed, but i shouldn't hurt to use the internal stop word list as well."
   ]
  },
  {
   "cell_type": "code",
   "execution_count": 229,
   "metadata": {},
   "outputs": [
    {
     "name": "stdout",
     "output_type": "stream",
     "text": [
      "article text vectorization done in 10.147 s\n",
      "n_samples: 44898, n_features: 2000\n"
     ]
    }
   ],
   "source": [
    "from sklearn.feature_extraction.text import TfidfVectorizer\n",
    "\n",
    "vectorizer = TfidfVectorizer(\n",
    "    max_df=0.5,\n",
    "    min_df=5,\n",
    "    max_features=2000,\n",
    "    stop_words=\"english\",\n",
    ")\n",
    "\n",
    "t0 = time()\n",
    "X_tfidf = vectorizer.fit_transform(train['Clean_Text'])\n",
    "\n",
    "print(f\"article text vectorization done in {time() - t0:.3f} s\")\n",
    "print(f\"n_samples: {X_tfidf.shape[0]}, n_features: {X_tfidf.shape[1]}\")\n"
   ]
  },
  {
   "cell_type": "markdown",
   "metadata": {},
   "source": [
    "Now we will use these vectorized matrices to train a k-mean classifier.\n",
    "\n",
    "K-means optimizes a non-convex objective function, therefore its clustering is not guaranteed to be optimal for a given random init. Even further, on sparse high-dimensional data such as text vectorized using the Bag of Words approach, k-means can initialize centroids on extremely isolated data points. Those data points can stay their own centroids all along."
   ]
  },
  {
   "cell_type": "code",
   "execution_count": 233,
   "metadata": {},
   "outputs": [
    {
     "name": "stdout",
     "output_type": "stream",
     "text": [
      "Percent occupancy of Text feature matrix: 4.460\n"
     ]
    }
   ],
   "source": [
    "print(f\"Percent occupancy of Text feature matrix: {100.0 * X_tfidf.nnz / np.prod(X_tfidf.shape):.3f}\")"
   ]
  },
  {
   "cell_type": "markdown",
   "metadata": {},
   "source": [
    "We can see that the input train matrices are quiet sparse at only a few percent occupancy. "
   ]
  },
  {
   "cell_type": "code",
   "execution_count": 234,
   "metadata": {},
   "outputs": [],
   "source": [
    "from sklearn.cluster import KMeans\n",
    "\n",
    "kmeans_title = KMeans(\n",
    "    n_clusters=2,\n",
    "    max_iter=10,\n",
    "    n_init=3\n",
    ").fit(X_tfidf)\n",
    "\n",
    "kmeans_pred = kmeans_title.labels_"
   ]
  },
  {
   "cell_type": "markdown",
   "metadata": {},
   "source": [
    "K-Means doesn't know the concept of the labels.  It just clusters the data into two (in our case) groups.  We'll use the actual labels to permute the predicted labels and get the best permutation for accuracy analysis."
   ]
  },
  {
   "cell_type": "code",
   "execution_count": 235,
   "metadata": {},
   "outputs": [],
   "source": [
    "import itertools\n",
    "from sklearn.metrics import accuracy_score, confusion_matrix\n",
    "import seaborn as sn\n",
    "\n",
    "def label_permute_compare(yt,yp):\n",
    "    labels = np.unique(yt)\n",
    "    perms = itertools.permutations(labels, len(labels))\n",
    "    best = 0\n",
    "    best_perm = []\n",
    "    for perm in perms:\n",
    "        y = np.array([perm[label] for label in yp])\n",
    "        acc = np.mean(y == yt)\n",
    "        if acc > best:\n",
    "            best = acc\n",
    "            best_perm = list(perm)\n",
    "    return best_perm, best"
   ]
  },
  {
   "cell_type": "code",
   "execution_count": 236,
   "metadata": {},
   "outputs": [
    {
     "name": "stdout",
     "output_type": "stream",
     "text": [
      "Accuracy of K-means clustering on Article Text classification:  65.0 %\n"
     ]
    },
    {
     "data": {
      "image/png": "[encoded data removed]",
      "text/plain": [
       "<Figure size 432x288 with 2 Axes>"
      ]
     },
     "metadata": {
      "needs_background": "light"
     },
     "output_type": "display_data"
    }
   ],
   "source": [
    "label_order_text, text_acc = label_permute_compare(train['Label'].values,kmeans_pred)\n",
    "kmeans_pred_labels = np.array([label_order_text[label] for label in kmeans_pred])\n",
    "\n",
    "print('Accuracy of K-means clustering on Article Text classification: ', int(text_acc*1000)/10,'%')\n",
    "\n",
    "text_cm = confusion_matrix(train['Label'].values,kmeans_pred_labels)/len(kmeans_pred_labels)\n",
    "sn.heatmap(text_cm, annot=True)\n",
    "plt.show()"
   ]
  },
  {
   "cell_type": "markdown",
   "metadata": {},
   "source": [
    "Well that didn't work very well. It clustered the majority of the data into one cluster and did hardly any better than guess.\n",
    "\n",
    "Maybe the problem is that there are too many words.\n",
    "\n",
    "### Model #2, Non-Negative Matrix Factorization\n",
    "\n",
    "Non-Negative Matrix Factorization (NMF) is a linear algebra algorithm that factorizes a high-dimensional vector, such as a term-document matrix, into a lower-dimensional representation, with only one constraint: the decomposed matrices consist of only non-negative values."
   ]
  },
  {
   "cell_type": "code",
   "execution_count": 237,
   "metadata": {},
   "outputs": [
    {
     "data": {
      "text/plain": [
       "NMF(alpha=0.0, beta_loss='kullback-leibler', init='nndsvda', l1_ratio=0.0,\n",
       "    max_iter=200, n_components=2, random_state=100, shuffle=False, solver='mu',\n",
       "    tol=0.0001, verbose=0)"
      ]
     },
     "execution_count": 237,
     "metadata": {},
     "output_type": "execute_result"
    }
   ],
   "source": [
    "from sklearn.decomposition import NMF\n",
    "\n",
    "nmf = NMF(n_components=2,\n",
    "          random_state=100,\n",
    "          init='nndsvda', \n",
    "          solver = 'mu',\n",
    "          beta_loss = 'kullback-leibler')\n",
    "nmf.fit(X_tfidf)"
   ]
  },
  {
   "cell_type": "code",
   "execution_count": 238,
   "metadata": {},
   "outputs": [
    {
     "name": "stdout",
     "output_type": "stream",
     "text": [
      "Accuracy of NMF clustering on Article Text classification:  82.9 %\n"
     ]
    },
    {
     "data": {
      "image/png": "[encoded data removed]",
      "text/plain": [
       "<Figure size 432x288 with 2 Axes>"
      ]
     },
     "metadata": {
      "needs_background": "light"
     },
     "output_type": "display_data"
    }
   ],
   "source": [
    "x= nmf.transform(X_tfidf)\n",
    "nmf_pred = 1*(x[:,0]>x[:,1])\n",
    "\n",
    "label_order_text, text_acc = label_permute_compare(train['Label'].values,nmf_pred)\n",
    "text_pred_labels = np.array([label_order_text[label] for label in nmf_pred])\n",
    "\n",
    "print('Accuracy of NMF clustering on Article Text classification: ', int(text_acc*1000)/10,'%')\n",
    "\n",
    "text_cm = confusion_matrix(train['Label'].values,text_pred_labels)/len(text_pred_labels)\n",
    "sn.heatmap(text_cm, annot=True)\n",
    "plt.show()"
   ]
  },
  {
   "cell_type": "markdown",
   "metadata": {},
   "source": [
    "NMF performed a lot better but still not very good.\n",
    "\n",
    "## Compare to Supervised Learning (Random Forest Classifier)\n",
    "\n",
    "Let's train an RFC on the Article Text data with different ratios of test/train split and see how it does."
   ]
  },
  {
   "cell_type": "code",
   "execution_count": 239,
   "metadata": {},
   "outputs": [],
   "source": [
    "from sklearn.model_selection import train_test_split\n",
    "from sklearn.ensemble import RandomForestClassifier\n",
    "from sklearn.pipeline import Pipeline\n",
    "from sklearn.metrics import accuracy_score\n",
    "\n",
    "test_train_ratio = np.linspace(0.1, 0.9, 9)\n",
    "\n",
    "test_accuracy = []\n",
    "cms = []\n",
    "\n",
    "for x in test_train_ratio:\n",
    "    \n",
    "    X_train, X_test, Y_train, Y_test = train_test_split(train['Clean_Text'],train['Label'], test_size = x, random_state = 60,shuffle=True)\n",
    "    \n",
    "    rfc = Pipeline([('tfidf', vectorizer),\n",
    "                ('rfc', RandomForestClassifier(n_estimators=100)),\n",
    "               ])\n",
    "\n",
    "    rfc.fit(X_train, Y_train)\n",
    "\n",
    "    test_predict = rfc.predict(X_test)\n",
    "\n",
    "    test_accuracy.append(accuracy_score(test_predict, Y_test)*100)\n",
    "    \n",
    "    cms.append( [x,confusion_matrix(Y_test,test_predict)/len(test_predict)])"
   ]
  },
  {
   "cell_type": "code",
   "execution_count": 240,
   "metadata": {},
   "outputs": [
    {
     "data": {
      "image/png": "[encoded data removed]",
      "text/plain": [
       "<Figure size 432x288 with 1 Axes>"
      ]
     },
     "metadata": {
      "needs_background": "light"
     },
     "output_type": "display_data"
    }
   ],
   "source": [
    "plt.figure()\n",
    "plt.grid()\n",
    "plt.plot(100-test_train_ratio*100,test_accuracy)\n",
    "plt.title('How Test/Train ratio affects Test Accuracy')\n",
    "plt.xlabel('Percent used for Training')\n",
    "plt.ylabel('Accuracy of Test Set')\n",
    "plt.show()"
   ]
  },
  {
   "cell_type": "code",
   "execution_count": 242,
   "metadata": {
    "scrolled": true
   },
   "outputs": [
    {
     "data": {
      "image/png": "[encoded data removed]",
      "text/plain": [
       "<Figure size 432x288 with 2 Axes>"
      ]
     },
     "metadata": {
      "needs_background": "light"
     },
     "output_type": "display_data"
    }
   ],
   "source": [
    "sn.heatmap(cms[5][1], annot=True)\n",
    "plt.show()\n"
   ]
  },
  {
   "cell_type": "markdown",
   "metadata": {},
   "source": [
    "Random Forest Classification did extremely well on these data, even when very little of the data is used to training."
   ]
  },
  {
   "cell_type": "markdown",
   "metadata": {},
   "source": [
    "## Conclusion\n",
    "\n",
    "On the same same of vectorized, cleaned input text data, we performed 3 types of classification.  Two unsupervised and one supervised. \n",
    "\n",
    "K-means performed poorly probably due to the fact that text data is often high-dimensional and sparse, which means that the feature space can be very large and most of the features are zero. K-means relies on calculating distances between data points in this high-dimensional space to assign points to clusters. However, in high-dimensional spaces, the distance between any two points tends to be similar, which can make it difficult for K-means to accurately cluster the data. \n",
    "\n",
    "Non-negative Matrix Factorization perform better than K-means, but still not very well.  NMF relies on non-negativity constraints, which can result in overly sparse representations that may not capture the full semantic meaning of the text. This can result in poor performance when using NMF for text classification.\n",
    "\n",
    "Random Forest, a form of supervised classification, performed exceptionally, even when very little of the data was used for training.  \n",
    "\n",
    "For the most part I beleive that text classification is a problem that requires domain knowledge to properly classify.  Unsupervised learning techniques have trouble with the semantics of subtle changes in meaning and will have difficulty discerning difference in clusters.  Supervised techniques will propably always do better as the labeled data produced with this domain knowledge will greatly aid finding correct differential information between the categories."
   ]
  }
 ],
 "metadata": {
  "kernelspec": {
   "display_name": "Python 3",
   "language": "python",
   "name": "python3"
  },
  "language_info": {
   "codemirror_mode": {
    "name": "ipython",
    "version": 3
   },
   "file_extension": ".py",
   "mimetype": "text/x-python",
   "name": "python",
   "nbconvert_exporter": "python",
   "pygments_lexer": "ipython3",
   "version": "3.7.6"
  }
 },
 "nbformat": 4,
 "nbformat_minor": 4
}
